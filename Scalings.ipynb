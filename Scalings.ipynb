{
 "cells": [
  {
   "cell_type": "markdown",
   "id": "76f56d18-3c32-4466-a186-6bbab00e977c",
   "metadata": {},
   "source": [
    "### Scaling Train and Test Data\n",
    "Imagine, you are a tailor. You're designing a suit (your machine learning model) for people based on sample measurements (your training data).\n",
    "\n",
    "You first take 100 people, carefully measure their height and weight, and based on those numbers, you decide:\n",
    "\n",
    "- How much to trim,\n",
    "- What kind of stitching to use,\n",
    "- What fabric stretch is needed.\n",
    "\n",
    "This \"style guide\" is your fitted scaler, learned from the training data\n",
    "\n",
    "Now comes a new customer (your test data)...\n",
    "Instead of using the same \"style guide\" (fit from your earlier 100 people), you take their measurements and create a whole new guide just for them!\n",
    "\n",
    "So now you're:\n",
    "\n",
    "- Using different rules,\n",
    "- Different stretch assumptions,\n",
    "- A totally new design...\n",
    "\n",
    "That’s not fair! And it's a problem.\n",
    "Because when you evaluate your tailoring skill (model performance), you're pretending you followed your original rules, but you didn’t!\n",
    "\n",
    "- You’re changing the rules at the last moment.\n",
    "- You're letting the test data \"help itself\" by tailoring specifically to its measurements.\n",
    "- In real life (deployment), new people will come — but you won't get to make a new guide just for them. You'll have to use your original guide.\n",
    "\n",
    "Same goes for TF-IDF also.\n"
   ]
  },
  {
   "cell_type": "code",
   "execution_count": 2,
   "id": "1169ea44-5231-4c23-b4f5-28cb66b867c3",
   "metadata": {},
   "outputs": [],
   "source": [
    "# scaler.fit(X_train)       # Learn only from training data\n",
    "# X_train = scaler.transform(X_train)  # Apply to training\n",
    "# X_test = scaler.transform(X_test)    # Apply the same rules to test"
   ]
  },
  {
   "cell_type": "code",
   "execution_count": null,
   "id": "e78aa78b-d90b-415f-a310-770f0c41a31d",
   "metadata": {},
   "outputs": [],
   "source": []
  },
  {
   "cell_type": "code",
   "execution_count": null,
   "id": "82e8a8bc-1418-491f-8608-4780121e76d3",
   "metadata": {},
   "outputs": [],
   "source": []
  }
 ],
 "metadata": {
  "kernelspec": {
   "display_name": "Python 3 (ipykernel)",
   "language": "python",
   "name": "python3"
  },
  "language_info": {
   "codemirror_mode": {
    "name": "ipython",
    "version": 3
   },
   "file_extension": ".py",
   "mimetype": "text/x-python",
   "name": "python",
   "nbconvert_exporter": "python",
   "pygments_lexer": "ipython3",
   "version": "3.8.20"
  }
 },
 "nbformat": 4,
 "nbformat_minor": 5
}
